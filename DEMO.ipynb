{
 "cells": [
  {
   "cell_type": "markdown",
   "id": "bc9fc984",
   "metadata": {},
   "source": [
    "# Demo of Variational Interpretable Concept Embeddings (VICE)"
   ]
  },
  {
   "cell_type": "markdown",
   "id": "3348d147",
   "metadata": {},
   "source": [
    "## Install dependencies"
   ]
  },
  {
   "cell_type": "code",
   "execution_count": 1,
   "id": "39d25d77",
   "metadata": {},
   "outputs": [],
   "source": [
    "import os    \n",
    "os.environ['KMP_DUPLICATE_LIB_OK']='True'"
   ]
  },
  {
   "cell_type": "code",
   "execution_count": 2,
   "id": "80c33bd1",
   "metadata": {},
   "outputs": [],
   "source": [
    "import argparse\n",
    "import os\n",
    "import random\n",
    "import torch\n",
    "\n",
    "import numpy as np\n",
    "from typing import Tuple\n",
    "\n",
    "import utils\n",
    "import visualization\n",
    "import optimization\n",
    "from data import TripletData\n",
    "from torch.utils.data import DataLoader"
   ]
  },
  {
   "cell_type": "markdown",
   "id": "1ec8986a",
   "metadata": {},
   "source": [
    "## I/O"
   ]
  },
  {
   "cell_type": "code",
   "execution_count": 22,
   "id": "9bd61cfc",
   "metadata": {},
   "outputs": [],
   "source": [
    "# specify input and output directories\n",
    "# triplets_dir = './data/files/amt/'\n",
    "triplets_dir = './data/own/'\n",
    "\n",
    "results_dir = './output_own/results/'\n",
    "plots_dir = './output_own/plots/'"
   ]
  },
  {
   "cell_type": "markdown",
   "id": "b0f2049b",
   "metadata": {},
   "source": [
    "### Variables and hyperparameters"
   ]
  },
  {
   "cell_type": "code",
   "execution_count": 5,
   "id": "06e1a415",
   "metadata": {},
   "outputs": [],
   "source": [
    "# define variables\n",
    "task = 'odd-one-out' # whether to perform an odd-one-out (3AFC) or target-matching (2AFC) triplet task\n",
    "epochs = 1500 # maximum number of epochs to run optimization process\n",
    "burnin = 500 # minimum number of epochs to run optimization process\n",
    "init_dim = 100 # initial embedding dimensionality of VICE\n",
    "batch_size = 128 # use power of 2 if you intend to perfrom model training on a GPU, else see whatever works best for you\n",
    "optim = 'adam' # we recommend to use Adam but you can try SGD with momentum\n",
    "mixture = 'gaussian' # spike-and-slab Gaussian mixture prior (if set to \"laplace\", a mixture of two Laplace distributions will be used as the prior)\n",
    "mc_samples = 10 # number of weight samples used in Monte Carlo (MC) sampling\n",
    "eta = 1e-3 # learning rate used in the optimizer\n",
    "spike = 0.1 # sigma (width) of the spike distribution\n",
    "slab = 1.0 # sigma (width) of the slab distribution\n",
    "pi = 0.5 # probability value that determines the relative weighting of the two distributions; the closer this value is to 1, the higher the probability that weights are drawn from the spike distribution\n",
    "k = 5 # an embedding dimension is considered important (and won't be pruned) if the minimum number of objects with a non-zero weight is larger than k (we recommend to set this value to 5 or 10)\n",
    "ws = 200 # window size determines for how many epochs the number of embedding dimensions (after pruning) is not allowed to vary (ws >> 100)\n",
    "steps = 50 # perform validation, save model parameters and create model and optimizer checkpoints every <steps> epochs\n",
    "seed = 42 # random seed for reproducibility of results\n",
    "num_workers = 8 # number of workers used for loading data\n",
    "verbose = True # enable verbosity"
   ]
  },
  {
   "cell_type": "code",
   "execution_count": 6,
   "id": "28f48c69",
   "metadata": {},
   "outputs": [],
   "source": [
    "# seed random number generator\n",
    "np.random.seed(seed)\n",
    "random.seed(seed)\n",
    "torch.manual_seed(seed)\n",
    "\n",
    "# set device\n",
    "if torch.cuda.is_available():\n",
    "    device = torch.device('cuda')\n",
    "    torch.cuda.manual_seed_all(seed)\n",
    "else:\n",
    "    # number of threads used for intraop parallelism on CPU; use only if device is CPU (won't affect performance on GPU)\n",
    "    num_threads = 8\n",
    "    torch.set_num_threads(num_threads)\n",
    "    os.environ['OMP_NUM_THREADS'] = str(num_threads)\n",
    "    device = torch.device('cpu')"
   ]
  },
  {
   "cell_type": "code",
   "execution_count": 7,
   "id": "3b3e24be",
   "metadata": {},
   "outputs": [],
   "source": [
    "# utility function\n",
    "def get_nobjects(train_triplets: torch.Tensor) -> int:\n",
    "    \"\"\"Get number of unique items in the data.\"\"\"\n",
    "    n_objects = torch.max(train_triplets).item()\n",
    "    if torch.min(train_triplets).item() == 0:\n",
    "        n_objects += 1\n",
    "    return n_objects"
   ]
  },
  {
   "cell_type": "markdown",
   "id": "6070a08a",
   "metadata": {},
   "source": [
    "### RB: create test and train set"
   ]
  },
  {
   "cell_type": "code",
   "execution_count": 115,
   "id": "a0cc67ef",
   "metadata": {},
   "outputs": [],
   "source": [
    "my_data = np.genfromtxt('./data/own/rgbg.csv', delimiter=',', dtype=np.int32)\n",
    "len_data = my_data.shape[0]\n",
    "indices = np.random.permutation(len_data)\n",
    "training_idx, test_idx = indices[:-int(len_data/10)], indices[-int(len_data/10):]\n",
    "training, test = my_data[training_idx,:], my_data[test_idx,:]"
   ]
  },
  {
   "cell_type": "code",
   "execution_count": 116,
   "id": "1d56417e",
   "metadata": {
    "scrolled": true
   },
   "outputs": [],
   "source": [
    "np.save(triplets_dir + 'train_90.npy', training)\n",
    "np.save(triplets_dir + 'test_10.npy', test)"
   ]
  },
  {
   "cell_type": "markdown",
   "id": "e65bf111",
   "metadata": {},
   "source": [
    "### Create mini-batches of train and test triplets"
   ]
  },
  {
   "cell_type": "code",
   "execution_count": 117,
   "id": "cde04498",
   "metadata": {},
   "outputs": [
    {
     "name": "stdout",
     "output_type": "stream",
     "text": [
      "\n",
      "Number of objects in the dataset: 763\n",
      "\n"
     ]
    }
   ],
   "source": [
    "# load train and test triplets into memory\n",
    "train_triplets, val_triplets = utils.load_data(device=device, triplets_dir=triplets_dir)\n",
    "\n",
    "# get number of samples/trials and number of unique objects in the data\n",
    "N = train_triplets.shape[0] # number of training samples\n",
    "n_objects = get_nobjects(train_triplets) # number of objects in the data\n",
    "\n",
    "# double-check whether the number of objects was inferred correctly from the train set\n",
    "print(f'\\nNumber of objects in the dataset: {n_objects}\\n')"
   ]
  },
  {
   "cell_type": "code",
   "execution_count": 118,
   "id": "38fbe914",
   "metadata": {},
   "outputs": [],
   "source": [
    "# create tensor datasets for the triplet data\n",
    "train_triplets = TripletData(\n",
    "    triplets=train_triplets,\n",
    "    n_objects=n_objects,\n",
    ")\n",
    "val_triplets = TripletData(\n",
    "    triplets=val_triplets,\n",
    "    n_objects=n_objects,\n",
    ")"
   ]
  },
  {
   "cell_type": "code",
   "execution_count": 119,
   "id": "a42d657d",
   "metadata": {},
   "outputs": [],
   "source": [
    "# load mini-batches for training\n",
    "train_batches = DataLoader(\n",
    "    dataset=train_triplets,\n",
    "    batch_size=batch_size,\n",
    "    shuffle=True,\n",
    "    num_workers=num_workers,\n",
    "    drop_last=False,\n",
    "    pin_memory=True,\n",
    ")\n",
    "# load mini-batches for evaluation\n",
    "val_batches = DataLoader(\n",
    "    dataset=val_triplets,\n",
    "    batch_size=batch_size,\n",
    "    shuffle=False,\n",
    "    num_workers=num_workers,\n",
    "    drop_last=False,\n",
    "    pin_memory=False,\n",
    ")"
   ]
  },
  {
   "cell_type": "markdown",
   "id": "20e91059",
   "metadata": {},
   "source": [
    "### Create directories"
   ]
  },
  {
   "cell_type": "code",
   "execution_count": 120,
   "id": "6374695b",
   "metadata": {},
   "outputs": [],
   "source": [
    "# helper to create directories for storing results\n",
    "def create_dirs(\n",
    "                results_dir: str,\n",
    "                plots_dir: str,\n",
    "                init_dim: int,\n",
    "                optim: str,\n",
    "                mixture: str,\n",
    "                spike: float,\n",
    "                slab: float,\n",
    "                pi: float,\n",
    "                rnd_seed: int,\n",
    ") -> Tuple[str, str, str]:\n",
    "    \"\"\"Create directories for results, plots, and model parameters.\"\"\"\n",
    "    print('\\n...Creating directories.\\n')\n",
    "#    if results_dir == './results/':\n",
    "    if results_dir == './output_own/results/':\n",
    "        results_dir = os.path.join(\n",
    "                                    results_dir,\n",
    "                                    f'{init_dim}d',\n",
    "                                    optim,\n",
    "                                    mixture,\n",
    "                                    str(spike),\n",
    "                                    str(slab),\n",
    "                                    str(pi),\n",
    "                                    f'seed{rnd_seed:02d}',\n",
    "        )\n",
    "    if not os.path.exists(results_dir):\n",
    "        os.makedirs(results_dir, exist_ok=True)\n",
    "        \n",
    "#    if plots_dir == './plots/':\n",
    "    if plots_dir == './output_own/plots/':\n",
    "        plots_dir = os.path.join(\n",
    "                                 plots_dir,\n",
    "                                 f'{init_dim}d',\n",
    "                                 optim,\n",
    "                                 mixture,\n",
    "                                 str(spike),\n",
    "                                 str(slab),\n",
    "                                 str(pi),\n",
    "                                 f'seed{rnd_seed:02d}',\n",
    "        )\n",
    "    if not os.path.exists(plots_dir):\n",
    "        os.makedirs(plots_dir, exist_ok=True)\n",
    "        \n",
    "    model_dir = os.path.join(results_dir, 'model')\n",
    "    return results_dir, plots_dir, model_dir"
   ]
  },
  {
   "cell_type": "code",
   "execution_count": 121,
   "id": "6394aaf5",
   "metadata": {
    "scrolled": false
   },
   "outputs": [
    {
     "name": "stdout",
     "output_type": "stream",
     "text": [
      "\n",
      "...Creating directories.\n",
      "\n"
     ]
    }
   ],
   "source": [
    "results_dir, plots_dir, model_dir = create_dirs(\n",
    "                            results_dir=results_dir,\n",
    "                            plots_dir=plots_dir,\n",
    "                            init_dim=init_dim,\n",
    "                            optim=optim,\n",
    "                            mixture=mixture,\n",
    "                            spike=spike,\n",
    "                            slab=slab,\n",
    "                            pi=pi,\n",
    "                            rnd_seed=seed\n",
    ")"
   ]
  },
  {
   "cell_type": "markdown",
   "id": "c920f7ac",
   "metadata": {},
   "source": [
    "## VICE optimization"
   ]
  },
  {
   "cell_type": "code",
   "execution_count": 122,
   "id": "56c533ee",
   "metadata": {},
   "outputs": [
    {
     "ename": "IndexError",
     "evalue": "Caught IndexError in DataLoader worker process 0.\nOriginal Traceback (most recent call last):\n  File \"C:\\Users\\LocalAdmin\\anaconda3\\envs\\vice\\lib\\site-packages\\torch\\utils\\data\\_utils\\worker.py\", line 302, in _worker_loop\n    data = fetcher.fetch(index)\n  File \"C:\\Users\\LocalAdmin\\anaconda3\\envs\\vice\\lib\\site-packages\\torch\\utils\\data\\_utils\\fetch.py\", line 58, in fetch\n    data = [self.dataset[idx] for idx in possibly_batched_index]\n  File \"C:\\Users\\LocalAdmin\\anaconda3\\envs\\vice\\lib\\site-packages\\torch\\utils\\data\\_utils\\fetch.py\", line 58, in <listcomp>\n    data = [self.dataset[idx] for idx in possibly_batched_index]\n  File \"C:\\Projects\\VICE\\data\\triplet_dataset.py\", line 27, in __getitem__\n    one_hot_triplet = self.encode_as_onehot(index_triplet)\n  File \"C:\\Projects\\VICE\\data\\triplet_dataset.py\", line 23, in encode_as_onehot\n    return self.identity[triplet, :]\nIndexError: index 763 is out of bounds for dimension 0 with size 763\n",
     "output_type": "error",
     "traceback": [
      "\u001b[1;31m---------------------------------------------------------------------------\u001b[0m",
      "\u001b[1;31mIndexError\u001b[0m                                Traceback (most recent call last)",
      "Cell \u001b[1;32mIn[122], line 31\u001b[0m\n\u001b[0;32m     28\u001b[0m vice\u001b[38;5;241m.\u001b[39mto(device)\n\u001b[0;32m     30\u001b[0m \u001b[38;5;66;03m# perform VICE optimization (i.e., fit model to the training data and perform evaluation and save model params every <steps> epochs)\u001b[39;00m\n\u001b[1;32m---> 31\u001b[0m \u001b[43mvice\u001b[49m\u001b[38;5;241;43m.\u001b[39;49m\u001b[43mfit\u001b[49m\u001b[43m(\u001b[49m\u001b[43mtrain_batches\u001b[49m\u001b[38;5;241;43m=\u001b[39;49m\u001b[43mtrain_batches\u001b[49m\u001b[43m,\u001b[49m\u001b[43m \u001b[49m\u001b[43mval_batches\u001b[49m\u001b[38;5;241;43m=\u001b[39;49m\u001b[43mval_batches\u001b[49m\u001b[43m)\u001b[49m\n",
      "File \u001b[1;32mC:\\Projects\\VICE\\optimization\\trainer.py:356\u001b[0m, in \u001b[0;36mTrainer.fit\u001b[1;34m(self, train_batches, val_batches)\u001b[0m\n\u001b[0;32m    354\u001b[0m \u001b[38;5;28mself\u001b[39m\u001b[38;5;241m.\u001b[39mtrain()\n\u001b[0;32m    355\u001b[0m \u001b[38;5;66;03m# take a step over the entire training data (i.e., iterate over every mini-batch in train_batches)\u001b[39;00m\n\u001b[1;32m--> 356\u001b[0m batch_llikelihoods, batch_closses, batch_losses, batch_accs \u001b[38;5;241m=\u001b[39m \u001b[38;5;28;43mself\u001b[39;49m\u001b[38;5;241;43m.\u001b[39;49m\u001b[43mstepping\u001b[49m\u001b[43m(\u001b[49m\n\u001b[0;32m    357\u001b[0m \u001b[43m    \u001b[49m\u001b[43mtrain_batches\u001b[49m\n\u001b[0;32m    358\u001b[0m \u001b[43m\u001b[49m\u001b[43m)\u001b[49m\n\u001b[0;32m    360\u001b[0m avg_llikelihood \u001b[38;5;241m=\u001b[39m torch\u001b[38;5;241m.\u001b[39mmean(batch_llikelihoods)\u001b[38;5;241m.\u001b[39mitem()\n\u001b[0;32m    361\u001b[0m avg_closs \u001b[38;5;241m=\u001b[39m torch\u001b[38;5;241m.\u001b[39mmean(batch_closses)\u001b[38;5;241m.\u001b[39mitem()\n",
      "File \u001b[1;32mC:\\Projects\\VICE\\optimization\\trainer.py:326\u001b[0m, in \u001b[0;36mTrainer.stepping\u001b[1;34m(self, train_batches)\u001b[0m\n\u001b[0;32m    324\u001b[0m batch_losses \u001b[38;5;241m=\u001b[39m torch\u001b[38;5;241m.\u001b[39mzeros(\u001b[38;5;28mlen\u001b[39m(train_batches))\n\u001b[0;32m    325\u001b[0m batch_accs \u001b[38;5;241m=\u001b[39m torch\u001b[38;5;241m.\u001b[39mzeros(\u001b[38;5;28mlen\u001b[39m(train_batches))\n\u001b[1;32m--> 326\u001b[0m \u001b[38;5;28;01mfor\u001b[39;00m i, batch \u001b[38;5;129;01min\u001b[39;00m \u001b[38;5;28menumerate\u001b[39m(train_batches):\n\u001b[0;32m    327\u001b[0m     \u001b[38;5;28mself\u001b[39m\u001b[38;5;241m.\u001b[39moptim\u001b[38;5;241m.\u001b[39mzero_grad()\n\u001b[0;32m    328\u001b[0m     batch \u001b[38;5;241m=\u001b[39m batch\u001b[38;5;241m.\u001b[39mto(\u001b[38;5;28mself\u001b[39m\u001b[38;5;241m.\u001b[39mdevice)\n",
      "File \u001b[1;32m~\\anaconda3\\envs\\vice\\lib\\site-packages\\torch\\utils\\data\\dataloader.py:628\u001b[0m, in \u001b[0;36m_BaseDataLoaderIter.__next__\u001b[1;34m(self)\u001b[0m\n\u001b[0;32m    625\u001b[0m \u001b[38;5;28;01mif\u001b[39;00m \u001b[38;5;28mself\u001b[39m\u001b[38;5;241m.\u001b[39m_sampler_iter \u001b[38;5;129;01mis\u001b[39;00m \u001b[38;5;28;01mNone\u001b[39;00m:\n\u001b[0;32m    626\u001b[0m     \u001b[38;5;66;03m# TODO(https://github.com/pytorch/pytorch/issues/76750)\u001b[39;00m\n\u001b[0;32m    627\u001b[0m     \u001b[38;5;28mself\u001b[39m\u001b[38;5;241m.\u001b[39m_reset()  \u001b[38;5;66;03m# type: ignore[call-arg]\u001b[39;00m\n\u001b[1;32m--> 628\u001b[0m data \u001b[38;5;241m=\u001b[39m \u001b[38;5;28;43mself\u001b[39;49m\u001b[38;5;241;43m.\u001b[39;49m\u001b[43m_next_data\u001b[49m\u001b[43m(\u001b[49m\u001b[43m)\u001b[49m\n\u001b[0;32m    629\u001b[0m \u001b[38;5;28mself\u001b[39m\u001b[38;5;241m.\u001b[39m_num_yielded \u001b[38;5;241m+\u001b[39m\u001b[38;5;241m=\u001b[39m \u001b[38;5;241m1\u001b[39m\n\u001b[0;32m    630\u001b[0m \u001b[38;5;28;01mif\u001b[39;00m \u001b[38;5;28mself\u001b[39m\u001b[38;5;241m.\u001b[39m_dataset_kind \u001b[38;5;241m==\u001b[39m _DatasetKind\u001b[38;5;241m.\u001b[39mIterable \u001b[38;5;129;01mand\u001b[39;00m \\\n\u001b[0;32m    631\u001b[0m         \u001b[38;5;28mself\u001b[39m\u001b[38;5;241m.\u001b[39m_IterableDataset_len_called \u001b[38;5;129;01mis\u001b[39;00m \u001b[38;5;129;01mnot\u001b[39;00m \u001b[38;5;28;01mNone\u001b[39;00m \u001b[38;5;129;01mand\u001b[39;00m \\\n\u001b[0;32m    632\u001b[0m         \u001b[38;5;28mself\u001b[39m\u001b[38;5;241m.\u001b[39m_num_yielded \u001b[38;5;241m>\u001b[39m \u001b[38;5;28mself\u001b[39m\u001b[38;5;241m.\u001b[39m_IterableDataset_len_called:\n",
      "File \u001b[1;32m~\\anaconda3\\envs\\vice\\lib\\site-packages\\torch\\utils\\data\\dataloader.py:1333\u001b[0m, in \u001b[0;36m_MultiProcessingDataLoaderIter._next_data\u001b[1;34m(self)\u001b[0m\n\u001b[0;32m   1331\u001b[0m \u001b[38;5;28;01melse\u001b[39;00m:\n\u001b[0;32m   1332\u001b[0m     \u001b[38;5;28;01mdel\u001b[39;00m \u001b[38;5;28mself\u001b[39m\u001b[38;5;241m.\u001b[39m_task_info[idx]\n\u001b[1;32m-> 1333\u001b[0m     \u001b[38;5;28;01mreturn\u001b[39;00m \u001b[38;5;28;43mself\u001b[39;49m\u001b[38;5;241;43m.\u001b[39;49m\u001b[43m_process_data\u001b[49m\u001b[43m(\u001b[49m\u001b[43mdata\u001b[49m\u001b[43m)\u001b[49m\n",
      "File \u001b[1;32m~\\anaconda3\\envs\\vice\\lib\\site-packages\\torch\\utils\\data\\dataloader.py:1359\u001b[0m, in \u001b[0;36m_MultiProcessingDataLoaderIter._process_data\u001b[1;34m(self, data)\u001b[0m\n\u001b[0;32m   1357\u001b[0m \u001b[38;5;28mself\u001b[39m\u001b[38;5;241m.\u001b[39m_try_put_index()\n\u001b[0;32m   1358\u001b[0m \u001b[38;5;28;01mif\u001b[39;00m \u001b[38;5;28misinstance\u001b[39m(data, ExceptionWrapper):\n\u001b[1;32m-> 1359\u001b[0m     \u001b[43mdata\u001b[49m\u001b[38;5;241;43m.\u001b[39;49m\u001b[43mreraise\u001b[49m\u001b[43m(\u001b[49m\u001b[43m)\u001b[49m\n\u001b[0;32m   1360\u001b[0m \u001b[38;5;28;01mreturn\u001b[39;00m data\n",
      "File \u001b[1;32m~\\anaconda3\\envs\\vice\\lib\\site-packages\\torch\\_utils.py:543\u001b[0m, in \u001b[0;36mExceptionWrapper.reraise\u001b[1;34m(self)\u001b[0m\n\u001b[0;32m    539\u001b[0m \u001b[38;5;28;01mexcept\u001b[39;00m \u001b[38;5;167;01mTypeError\u001b[39;00m:\n\u001b[0;32m    540\u001b[0m     \u001b[38;5;66;03m# If the exception takes multiple arguments, don't try to\u001b[39;00m\n\u001b[0;32m    541\u001b[0m     \u001b[38;5;66;03m# instantiate since we don't know how to\u001b[39;00m\n\u001b[0;32m    542\u001b[0m     \u001b[38;5;28;01mraise\u001b[39;00m \u001b[38;5;167;01mRuntimeError\u001b[39;00m(msg) \u001b[38;5;28;01mfrom\u001b[39;00m \u001b[38;5;28mNone\u001b[39m\n\u001b[1;32m--> 543\u001b[0m \u001b[38;5;28;01mraise\u001b[39;00m exception\n",
      "\u001b[1;31mIndexError\u001b[0m: Caught IndexError in DataLoader worker process 0.\nOriginal Traceback (most recent call last):\n  File \"C:\\Users\\LocalAdmin\\anaconda3\\envs\\vice\\lib\\site-packages\\torch\\utils\\data\\_utils\\worker.py\", line 302, in _worker_loop\n    data = fetcher.fetch(index)\n  File \"C:\\Users\\LocalAdmin\\anaconda3\\envs\\vice\\lib\\site-packages\\torch\\utils\\data\\_utils\\fetch.py\", line 58, in fetch\n    data = [self.dataset[idx] for idx in possibly_batched_index]\n  File \"C:\\Users\\LocalAdmin\\anaconda3\\envs\\vice\\lib\\site-packages\\torch\\utils\\data\\_utils\\fetch.py\", line 58, in <listcomp>\n    data = [self.dataset[idx] for idx in possibly_batched_index]\n  File \"C:\\Projects\\VICE\\data\\triplet_dataset.py\", line 27, in __getitem__\n    one_hot_triplet = self.encode_as_onehot(index_triplet)\n  File \"C:\\Projects\\VICE\\data\\triplet_dataset.py\", line 23, in encode_as_onehot\n    return self.identity[triplet, :]\nIndexError: index 763 is out of bounds for dimension 0 with size 763\n"
     ]
    }
   ],
   "source": [
    "# initialize VICE model\n",
    "vice = optimization.VICE(\n",
    "            task=task,\n",
    "            n_train=N,\n",
    "            n_objects=n_objects,\n",
    "            init_dim=init_dim,\n",
    "            optim=optim,\n",
    "            eta=eta,\n",
    "            batch_size=batch_size,\n",
    "            epochs=epochs,\n",
    "            burnin=burnin,\n",
    "            mc_samples=mc_samples,\n",
    "            mixture=mixture,\n",
    "            spike=spike,\n",
    "            slab=slab,\n",
    "            pi=pi,\n",
    "            k=k,\n",
    "            ws=ws,\n",
    "            steps=steps,\n",
    "            model_dir=model_dir,\n",
    "            results_dir=results_dir,\n",
    "            device=device,\n",
    "            verbose=verbose,\n",
    "            init_weights=True,\n",
    "    )\n",
    "\n",
    "# move VICE to current device\n",
    "vice.to(device)\n",
    "\n",
    "# perform VICE optimization (i.e., fit model to the training data and perform evaluation and save model params every <steps> epochs)\n",
    "vice.fit(train_batches=train_batches, val_batches=val_batches)"
   ]
  },
  {
   "cell_type": "code",
   "execution_count": 32,
   "id": "7b6e8911",
   "metadata": {},
   "outputs": [],
   "source": [
    "# get train and validation prediction accuracies, log-likelihoods, and complexity losses (KLDs)\n",
    "train_accs = vice.train_accs\n",
    "val_accs = vice.val_accs\n",
    "loglikelihoods = vice.loglikelihoods\n",
    "complexity_losses = vice.complexity_losses\n",
    "latent_dimensions = vice.latent_dimensions"
   ]
  },
  {
   "cell_type": "markdown",
   "id": "bcef37ce",
   "metadata": {},
   "source": [
    "### Performance plots"
   ]
  },
  {
   "cell_type": "code",
   "execution_count": 33,
   "id": "2349a83a",
   "metadata": {
    "scrolled": false
   },
   "outputs": [
    {
     "data": {
      "image/png": "[encoded data removed]",
      "text/plain": [
       "<Figure size 1000x600 with 1 Axes>"
      ]
     },
     "metadata": {},
     "output_type": "display_data"
    }
   ],
   "source": [
    "# plot train and validation (prediction) accuracies against each other to examine whether model overfits the training data\n",
    "visualization.plot_single_performance(\n",
    "                                        plots_dir=plots_dir,\n",
    "                                        val_accs=val_accs,\n",
    "                                        train_accs=train_accs,\n",
    "                                        steps=steps,\n",
    "                                        show_plot=True\n",
    ")"
   ]
  },
  {
   "cell_type": "code",
   "execution_count": 34,
   "id": "ef11f594",
   "metadata": {
    "scrolled": false
   },
   "outputs": [
    {
     "name": "stderr",
     "output_type": "stream",
     "text": [
      "C:\\Projects\\VICE\\visualization.py:103: UserWarning: Attempting to set identical low and high xlims makes transformation singular; automatically expanding.\n",
      "  ax.set_xlim([0, len(losses[i])])\n"
     ]
    },
    {
     "data": {
      "image/png": "[encoded data removed]",
      "text/plain": [
       "<Figure size 1600x1000 with 2 Axes>"
      ]
     },
     "metadata": {},
     "output_type": "display_data"
    }
   ],
   "source": [
    "# plot complexity losses (KLDs) and log-likelihoods over time\n",
    "visualization.plot_complexities_and_loglikelihoods(\n",
    "                                                    plots_dir=plots_dir,\n",
    "                                                    loglikelihoods=loglikelihoods,\n",
    "                                                    complexity_losses=complexity_losses,\n",
    "                                                    show_plot=True\n",
    ")"
   ]
  },
  {
   "cell_type": "code",
   "execution_count": null,
   "id": "9ea941d7",
   "metadata": {},
   "outputs": [],
   "source": [
    "# plot number of latent dimensions (identified dimensions after pruning) over time\n",
    "visualization.plot_latent_dimensions(\n",
    "                                plots_dir=plots_dir,\n",
    "                                latent_dimensions=latent_dimensions,\n",
    "                                show_plot=True\n",
    ")"
   ]
  },
  {
   "cell_type": "markdown",
   "id": "93dab0aa",
   "metadata": {},
   "source": [
    "### Save unpruned locations and scales after convergence"
   ]
  },
  {
   "cell_type": "code",
   "execution_count": null,
   "id": "e99adff5",
   "metadata": {},
   "outputs": [],
   "source": [
    "# get means and standard deviations\n",
    "params = vice.detached_params\n",
    "loc=params['loc']\n",
    "scale=params['scale']"
   ]
  },
  {
   "cell_type": "code",
   "execution_count": null,
   "id": "2977802d",
   "metadata": {},
   "outputs": [],
   "source": [
    "# compress model params and store as binary files\n",
    "with open(os.path.join(results_dir, 'parameters.npz'), 'wb') as f:\n",
    "    np.savez_compressed(f, loc=loc, scale=scale)"
   ]
  },
  {
   "cell_type": "markdown",
   "id": "02d5fa7d",
   "metadata": {},
   "source": [
    "### Load pruned locations and scales of converged VICE model for downstream applications"
   ]
  },
  {
   "cell_type": "code",
   "execution_count": null,
   "id": "86b60dcf",
   "metadata": {},
   "outputs": [],
   "source": [
    "# load pruned VICE params\n",
    "pruned_params = vice.pruned_params\n",
    "pruned_loc = pruned_params['pruned_loc']\n",
    "pruned_scale = pruned_params['pruned_scale']"
   ]
  }
 ],
 "metadata": {
  "kernelspec": {
   "display_name": "vice",
   "language": "python",
   "name": "vice"
  },
  "language_info": {
   "codemirror_mode": {
    "name": "ipython",
    "version": 3
   },
   "file_extension": ".py",
   "mimetype": "text/x-python",
   "name": "python",
   "nbconvert_exporter": "python",
   "pygments_lexer": "ipython3",
   "version": "3.9.16"
  }
 },
 "nbformat": 4,
 "nbformat_minor": 5
}
